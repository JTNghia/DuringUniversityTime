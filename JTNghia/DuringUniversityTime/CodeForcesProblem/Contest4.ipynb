{
  "nbformat": 4,
  "nbformat_minor": 0,
  "metadata": {
    "colab": {
      "name": "Contest4.ipynb",
      "provenance": [],
      "collapsed_sections": [],
      "authorship_tag": "ABX9TyOYfuhRiRLEZTA1laGIrRfT",
      "include_colab_link": true
    },
    "kernelspec": {
      "name": "python3",
      "display_name": "Python 3"
    }
  },
  "cells": [
    {
      "cell_type": "markdown",
      "metadata": {
        "id": "view-in-github",
        "colab_type": "text"
      },
      "source": [
        "<a href=\"https://colab.research.google.com/github/JTNghia/DuringUniversityTime/blob/main/JTNghia/DuringUniversityTime/CodeForcesProblem/Contest4.ipynb\" target=\"_parent\"><img src=\"https://colab.research.google.com/assets/colab-badge.svg\" alt=\"Open In Colab\"/></a>"
      ]
    },
    {
      "cell_type": "code",
      "metadata": {
        "colab": {
          "base_uri": "https://localhost:8080/"
        },
        "id": "_VBPKNdYNDJY",
        "outputId": "2b43f179-00b0-4897-f9ba-79beee628f39"
      },
      "source": [
        "# Watermelon 4A\r\n",
        "n = int(input())\r\n",
        "if n <= 3 or n%2==1:\r\n",
        "  print(\"NO\")\r\n",
        "else:\r\n",
        "  print('YES')\r\n",
        "# Done"
      ],
      "execution_count": null,
      "outputs": [
        {
          "output_type": "stream",
          "text": [
            "8\n",
            "YES\n"
          ],
          "name": "stdout"
        }
      ]
    },
    {
      "cell_type": "code",
      "metadata": {
        "colab": {
          "base_uri": "https://localhost:8080/"
        },
        "id": "gOKuVgHAThUo",
        "outputId": "b3afa60c-bfe6-4c83-8a81-753aac081173"
      },
      "source": [
        "# Before an Exam 4B\r\n",
        "d, sumTime = list(map(int,input().split()))\r\n",
        "minTime,maxTime = [],[]\r\n",
        "\r\n",
        "for i in range(d):\r\n",
        "  x,y = list(map(int,input().split()))\r\n",
        "  minTime.append(x)\r\n",
        "  maxTime.append(y)\r\n",
        "smin = sum(minTime)\r\n",
        "smax = sum(maxTime)\r\n",
        "if sumTime < smin or sumTime > smax :\r\n",
        "  print(\"NO\")\r\n",
        "elif sumTime == smin:\r\n",
        "  print(\"YES\")\r\n",
        "  for i in minTime:\r\n",
        "    print(i,end=\" \")\r\n",
        "elif sumTime == smax:\r\n",
        "  print(\"YES\")\r\n",
        "  for i in maxTime:\r\n",
        "    print(i, end=\" \")\r\n",
        "else:\r\n",
        "  print(\"YES\")\r\n",
        "  sumTime -= smin\r\n",
        "  i = 0\r\n",
        "  for i in range(d):\r\n",
        "    if sumTime <=0 :\r\n",
        "      i -= 1\r\n",
        "      break\r\n",
        "    sumTime -= (maxTime[i] - minTime[i])\r\n",
        "  if sumTime < 0:\r\n",
        "    minTime[i] = maxTime[i] + sumTime\r\n",
        "  print(minTime,maxTime)\r\n",
        "  for j in range(i):\r\n",
        "    print(maxTime[j],end = \" \")\r\n",
        "  for j in range(i,d):\r\n",
        "    print(minTime[j])\r\n",
        "# Not yet"
      ],
      "execution_count": null,
      "outputs": [
        {
          "output_type": "stream",
          "text": [
            "2 48\n",
            "5 7\n",
            "0 9\n",
            "NO\n"
          ],
          "name": "stdout"
        }
      ]
    },
    {
      "cell_type": "code",
      "metadata": {
        "id": "q8eBgQARllqi"
      },
      "source": [
        "# https://codeforces.com/problemset/problem/1485/A not yet"
      ],
      "execution_count": null,
      "outputs": []
    }
  ]
}