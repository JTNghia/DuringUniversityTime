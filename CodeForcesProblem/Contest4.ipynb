{
  "nbformat": 4,
  "nbformat_minor": 0,
  "metadata": {
    "colab": {
      "name": "Contest4.ipynb",
      "provenance": [],
      "collapsed_sections": [],
      "authorship_tag": "ABX9TyOYWGmUQ5Q5m/kU6zTGHkbf",
      "include_colab_link": true
    },
    "kernelspec": {
      "name": "python3",
      "display_name": "Python 3"
    }
  },
  "cells": [
    {
      "cell_type": "markdown",
      "metadata": {
        "id": "view-in-github",
        "colab_type": "text"
      },
      "source": [
        "<a href=\"https://colab.research.google.com/github/JTNghia/DuringUniversityTime/blob/main/CodeForcesProblem/Contest4.ipynb\" target=\"_parent\"><img src=\"https://colab.research.google.com/assets/colab-badge.svg\" alt=\"Open In Colab\"/></a>"
      ]
    },
    {
      "cell_type": "code",
      "metadata": {
        "colab": {
          "base_uri": "https://localhost:8080/"
        },
        "id": "_VBPKNdYNDJY",
        "outputId": "2b43f179-00b0-4897-f9ba-79beee628f39"
      },
      "source": [
        "# Watermelon 4A\r\n",
        "n = int(input())\r\n",
        "if n <= 3 or n%2==1:\r\n",
        "  print(\"NO\")\r\n",
        "else:\r\n",
        "  print('YES')\r\n",
        "# Done"
      ],
      "execution_count": null,
      "outputs": [
        {
          "output_type": "stream",
          "text": [
            "8\n",
            "YES\n"
          ],
          "name": "stdout"
        }
      ]
    },
    {
      "cell_type": "code",
      "metadata": {
        "colab": {
          "base_uri": "https://localhost:8080/"
        },
        "id": "gOKuVgHAThUo",
        "outputId": "24e18543-dd8a-4411-f4dc-3d66ffdc80c2"
      },
      "source": [
        "# Before an Exam 4B\r\n",
        "d, sumTime = list(map(int,input().split()))\r\n",
        "minTime,maxTime = [],[]\r\n",
        "\r\n",
        "for i in range(d):\r\n",
        "  x,y = list(map(int,input().split()))\r\n",
        "  minTime.append(x)\r\n",
        "  maxTime.append(y)\r\n",
        "smin = sum(minTime)\r\n",
        "smax = sum(maxTime)\r\n",
        "if sumTime < smin or sumTime > smax :\r\n",
        "  print(\"NO\")\r\n",
        "elif sumTime == smin:\r\n",
        "  print(\"YES\")\r\n",
        "  for i in minTime:\r\n",
        "    print(i,end=\" \")\r\n",
        "elif sumTime == smax:\r\n",
        "  print(\"YES\")\r\n",
        "  for i in maxTime:\r\n",
        "    print(i, end=\" \")\r\n",
        "else:\r\n",
        "  print(\"YES\")\r\n",
        "  sumTime -= smin\r\n",
        "  i = 0\r\n",
        "  for i in range(d):\r\n",
        "    if sumTime <=0 :\r\n",
        "      i -= 1\r\n",
        "      break\r\n",
        "    sumTime -= (maxTime[i] - minTime[i])\r\n",
        "    if sumTime >= 0:\r\n",
        "      minTime[i] = maxTime[i]\r\n",
        "\r\n",
        "  if sumTime < 0:\r\n",
        "    minTime[i] = maxTime[i] + sumTime\r\n",
        "  for j in range(d):\r\n",
        "    print(minTime[j])\r\n",
        "# Done"
      ],
      "execution_count": 27,
      "outputs": [
        {
          "output_type": "stream",
          "text": [
            "30 92\n",
            "4 5\n",
            "4 7\n",
            "2 6\n",
            "8 8\n",
            "7 8\n",
            "4 5\n",
            "7 8\n",
            "1 2\n",
            "6 8\n",
            "2 7\n",
            "2 4\n",
            "0 0\n",
            "1 3\n",
            "4 5\n",
            "1 1\n",
            "0 7\n",
            "2 5\n",
            "2 5\n",
            "3 3\n",
            "1 2\n",
            "1 7\n",
            "5 5\n",
            "5 8\n",
            "6 7\n",
            "0 3\n",
            "2 6\n",
            "0 7\n",
            "5 6\n",
            "2 5\n",
            "1 5\n",
            "YES\n",
            "5\n",
            "7\n",
            "2\n",
            "8\n",
            "7\n",
            "4\n",
            "7\n",
            "1\n",
            "6\n",
            "2\n",
            "2\n",
            "0\n",
            "1\n",
            "4\n",
            "1\n",
            "0\n",
            "2\n",
            "2\n",
            "3\n",
            "1\n",
            "1\n",
            "5\n",
            "5\n",
            "6\n",
            "0\n",
            "2\n",
            "0\n",
            "5\n",
            "2\n",
            "1\n"
          ],
          "name": "stdout"
        }
      ]
    },
    {
      "cell_type": "code",
      "metadata": {
        "colab": {
          "base_uri": "https://localhost:8080/"
        },
        "id": "vp9EmwpZ5ZhM",
        "outputId": "1fa63400-fb82-4d30-8027-e6c920ae9342"
      },
      "source": [
        "# Registration system 4C\r\n",
        "def RegistrationSystem(name):\r\n",
        "  if name not in dic.keys():\r\n",
        "    dic[name] = 0\r\n",
        "    print(\"OK\")\r\n",
        "    return True\r\n",
        "  else:\r\n",
        "    dic[name] = dic[name]+1\r\n",
        "    new_name = name+str(dic[name])\r\n",
        "    i = dic[name] + 1 \r\n",
        "    while new_name in dic.keys():\r\n",
        "      new_name = name + str(i)\r\n",
        "      dic[name] = i\r\n",
        "      i+=1\r\n",
        "      \r\n",
        "    dic[new_name] = 0\r\n",
        "    print(new_name)\r\n",
        "    return new_name\r\n",
        "\r\n",
        "\r\n",
        "n = int(input())\r\n",
        "dic = dict()\r\n",
        "\r\n",
        "for i in range(n):\r\n",
        "  name = input()\r\n",
        "  RegistrationSystem(name)\r\n",
        "# Done"
      ],
      "execution_count": 19,
      "outputs": [
        {
          "output_type": "stream",
          "text": [
            "7\n",
            "abc\n",
            "OK\n",
            "abc\n",
            "abc1\n",
            "abc2\n",
            "OK\n",
            "abc\n",
            "abc3\n",
            "xyz\n",
            "OK\n",
            "xyz\n",
            "xyz1\n",
            "xyz\n",
            "xyz2\n"
          ],
          "name": "stdout"
        }
      ]
    },
    {
      "cell_type": "code",
      "metadata": {
        "id": "q8eBgQARllqi"
      },
      "source": [
        "# https://codeforces.com/problemset/problem/1485/A not yet"
      ],
      "execution_count": null,
      "outputs": []
    }
  ]
}